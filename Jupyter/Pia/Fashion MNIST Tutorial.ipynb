{
 "cells": [
  {
   "cell_type": "markdown",
   "metadata": {},
   "source": [
    "# Keras tutorial : Fashion-MNIST database of fashion articles\n",
    "In this tutorial we'll see how to train our neuronal network to detect clothes and to categorized them based on a dataset of 60,000 images (28x28 grayscale images).\n",
    "\n",
    "Class : \n",
    "\n",
    "0 - T-shirts & top\n",
    "\n",
    "1 - Trousers\n",
    "\n",
    "2 - Pullover\n",
    "\n",
    "3 - Dress\n",
    "\n",
    "4 - Coat\n",
    "\n",
    "5 - Sandal\n",
    "\n",
    "6 - Shirt\n",
    "\n",
    "7 - Sneaker\n",
    "\n",
    "8 - Bag\n",
    "\n",
    "9 - Ankle boot\n",
    "\n",
    "[Tutorial on Keras website](https://keras.io/datasets/#mnist-database-of-handwritten-digits)"
   ]
  },
  {
   "cell_type": "code",
   "execution_count": null,
   "metadata": {
    "collapsed": true
   },
   "outputs": [],
   "source": []
  }
 ],
 "metadata": {
  "kernelspec": {
   "display_name": "Python 3",
   "language": "python",
   "name": "python3"
  },
  "language_info": {
   "codemirror_mode": {
    "name": "ipython",
    "version": 3
   },
   "file_extension": ".py",
   "mimetype": "text/x-python",
   "name": "python",
   "nbconvert_exporter": "python",
   "pygments_lexer": "ipython3",
   "version": "3.6.3"
  }
 },
 "nbformat": 4,
 "nbformat_minor": 2
}
