{
 "cells": [
  {
   "cell_type": "markdown",
   "metadata": {},
   "source": [
    "# Deep leaning tutoriel\n",
    "## Definitions\n",
    "\n",
    "**Machine learning** is about defining the outcome and letting your algorithm learn the step to get here.\n",
    "\n",
    "There is tree differents learning styles :\n",
    " * Supervised\n",
    " * Unsupervised\n",
    " * Reinforcement\n",
    "\n",
    "**Deep Learning** is a subcategory of machine learning, it derives more precisely of neural network. The deeplearning consists to combine succesive layers of neural network.\n",
    " \n",
    "**![Linear Regression]()** models relationship between independent and dependant variables via line of best fit.\n"
   ]
  },
  {
   "cell_type": "code",
   "execution_count": null,
   "metadata": {},
   "outputs": [],
   "source": []
  }
 ],
 "metadata": {
  "kernelspec": {
   "display_name": "Python 3",
   "language": "python",
   "name": "python3"
  },
  "language_info": {
   "codemirror_mode": {
    "name": "ipython",
    "version": 3
   },
   "file_extension": ".py",
   "mimetype": "text/x-python",
   "name": "python",
   "nbconvert_exporter": "python",
   "pygments_lexer": "ipython3",
   "version": "3.5.2"
  }
 },
 "nbformat": 4,
 "nbformat_minor": 2
}
