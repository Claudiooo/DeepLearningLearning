{
 "cells": [
  {
   "cell_type": "markdown",
   "metadata": {},
   "source": [
    "## Perceptron\n",
    "\n",
    "### Definission\n",
    "The perceptron is an algorithm for supervised learning of binary classifiers. It is a type of linear classifier, i.e. a classification algorithm that makes its predictions based on a linear predictor function combining a set of weights with the feature vector.\n",
    "\n",
    "### Implementation\n"
   ]
  },
  {
   "cell_type": "code",
   "execution_count": 1,
   "metadata": {},
   "outputs": [],
   "source": [
    "def activationFunc(number):\n",
    "    return 1 if number > 0 else -1\n",
    "    \n",
    "class Perceptron:\n",
    "    def __init__(self, size, learning_rate):\n",
    "        self.size = size\n",
    "        self.weights = []\n",
    "        self.lr = learning_rate\n",
    "        for i in range(size):\n",
    "            self.weights.append(random.uniform(-1.0, 1.0))\n",
    "            \n",
    "    def guess(self, inputs):\n",
    "        sum = 0\n",
    "        for i in range(len(self.weights)):\n",
    "            sum += inputs[i] * weights[i]\n",
    "        return activationFunc(sum)\n",
    "    \n",
    "    def train(self, inputs, target):\n",
    "        guess = guess(inputs)\n",
    "        error = target - guess\n",
    "        for i in range(len(self.wieghts)):\n",
    "            weights[i] += error * inputs[i] * self.lr"
   ]
  },
  {
   "cell_type": "code",
   "execution_count": null,
   "metadata": {},
   "outputs": [],
   "source": []
  }
 ],
 "metadata": {
  "kernelspec": {
   "display_name": "Python 3",
   "language": "python",
   "name": "python3"
  },
  "language_info": {
   "codemirror_mode": {
    "name": "ipython",
    "version": 3
   },
   "file_extension": ".py",
   "mimetype": "text/x-python",
   "name": "python",
   "nbconvert_exporter": "python",
   "pygments_lexer": "ipython3",
   "version": "3.5.2"
  }
 },
 "nbformat": 4,
 "nbformat_minor": 2
}
