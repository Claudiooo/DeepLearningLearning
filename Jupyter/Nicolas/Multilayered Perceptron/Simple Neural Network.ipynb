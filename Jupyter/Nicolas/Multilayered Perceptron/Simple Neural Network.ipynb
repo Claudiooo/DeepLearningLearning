{
 "cells": [
  {
   "cell_type": "markdown",
   "metadata": {},
   "source": [
    "## Simple Neural Network *aka Multilayered perceptron*\n",
    "\n",
    "The goal of this exercise is to build your own neural network from scratch and train it to recognise a series of handwritten digits. See *[The Perceptron](https://github.com/Claudiooo/DeepLearningLearning/blob/Group2/Jupyter/Nicolas/Perceptron.ipynb)* for more informations about **the perceptron concept**"
   ]
  },
  {
   "cell_type": "code",
   "execution_count": 1,
   "metadata": {},
   "outputs": [],
   "source": [
    "import random\n",
    "\n",
    "def activationFunc(number):\n",
    "    return 1 if number > 0 else -1\n",
    "    \n",
    "class Perceptron:\n",
    "    def __init__(self, size, learning_rate):\n",
    "        self.size = size\n",
    "        self.weights = []\n",
    "        self.lr = learning_rate\n",
    "        for i in range(size):\n",
    "            self.weights.append(random.uniform(-1.0, 1.0))\n",
    "            \n",
    "    def guess(self, inputs):\n",
    "        sum = 0\n",
    "        for i in range(len(self.weights)):\n",
    "            sum += inputs[i] * self.weights[i]\n",
    "        return activationFunc(sum)\n",
    "    \n",
    "    def train(self, inputs, target):\n",
    "        value = self.guess(inputs)\n",
    "        error = target - value\n",
    "        for i in range(len(self.weights)):\n",
    "            self.weights[i] += error * inputs[i] * self.lr\n"
   ]
  },
  {
   "cell_type": "markdown",
   "metadata": {},
   "source": [
    "Reading data and formating"
   ]
  },
  {
   "cell_type": "code",
   "execution_count": 54,
   "metadata": {},
   "outputs": [],
   "source": [
    "def read_number(file, size):\n",
    "    return int.from_bytes(file.read(size), byteorder='big', signed=False)\n",
    "\n",
    "def get_label_data(filename):\n",
    "    file = open(filename, 'rb')\n",
    "    magix_number = (0x00000801).to_bytes(4, byteorder='big')\n",
    "    read_value = file.read(4)\n",
    "    if (read_value != magix_number):\n",
    "        print(\"This isn't a label file!\")\n",
    "        return 0\n",
    "    number_of_items = read_number(file, 4)\n",
    "    data = []\n",
    "    for i in range(number_of_items):\n",
    "        data.append(read_number(file, 1))\n",
    "    return [number_of_items, data]\n",
    "\n",
    "def normalise_number(number, minimum, maximum):\n",
    "    return (number - minimum) / (maximum - minimum)\n",
    "\n",
    "def get_image_data(filename):\n",
    "    file = open(filename, 'rb')\n",
    "    magix_number = (0x00000803).to_bytes(4, byteorder='big')\n",
    "    read_value = file.read(4)\n",
    "    if (read_value != magix_number):\n",
    "        print(\"This isn't an image file!\")\n",
    "        return 0\n",
    "    number_of_items = read_number(file, 4)\n",
    "    number_of_rows = read_number(file, 4)\n",
    "    number_of_columns = read_number(file, 4)\n",
    "    data = []\n",
    "    minimum = 0.0\n",
    "    maximum = 255.0\n",
    "    for i in range(number_of_items):\n",
    "        pixels = []\n",
    "        data.append(normalise_number(read_number(file, 1), minimum, maximum))\n",
    "    return [number_of_items, number_of_rows, number_of_columns, data]\n",
    "\n",
    "if __name__ == \"__main__\":\n",
    "    image_data = get_image_data(\"train-images.idx3-ubyte\")\n",
    "    label_data = get_label_data(\"train-labels.idx1-ubyte\")\n",
    "#     print(image_data)\n",
    "#     print(label_data)"
   ]
  },
  {
   "cell_type": "markdown",
   "metadata": {},
   "source": [
    "### Links\n",
    "\n",
    "#### Youtube\n",
    " * [The Coding Train - 10.4: Neural Networks: Multilayer Perceptron Part 1](https://www.youtube.com/watch?v=u5GAVdLQyIg&list=PLRqwX-V7Uu6aCibgK1PTWWu9by6XFdCfh&index=4)\n",
    " * [The Coding Train - 10.4: Neural Networks: Multilayer Perceptron Part 2](https://www.youtube.com/watch?v=IlmNhFxre0w&list=PLRqwX-V7Uu6aCibgK1PTWWu9by6XFdCfh&index=5)\n",
    " * [3Blue1Brown - But what \\*is* a Neural Network? | Deep learning, chapter 1](https://www.youtube.com/watch?v=aircAruvnKk)\n",
    " * [3Blue1Brown - Gradient descent, how neural networks learn | Deep learning, chapter 2\n",
    "](https://www.youtube.com/watch?v=IHZwWFHWa-w)\n",
    "#### Web\n",
    " * [Wikipedia - Multilayered perceptron](https://www.wikiwand.com/en/Multilayer_perceptron)\n",
    " \n",
    "#### Data\n",
    " * [THE MNIST DATABASE of handwritten digits](http://yann.lecun.com/exdb/mnist/)"
   ]
  }
 ],
 "metadata": {
  "kernelspec": {
   "display_name": "Python 3",
   "language": "python",
   "name": "python3"
  },
  "language_info": {
   "codemirror_mode": {
    "name": "ipython",
    "version": 3
   },
   "file_extension": ".py",
   "mimetype": "text/x-python",
   "name": "python",
   "nbconvert_exporter": "python",
   "pygments_lexer": "ipython3",
   "version": "3.5.2"
  }
 },
 "nbformat": 4,
 "nbformat_minor": 2
}
