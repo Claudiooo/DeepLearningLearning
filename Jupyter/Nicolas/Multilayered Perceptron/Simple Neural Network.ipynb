{
 "cells": [
  {
   "cell_type": "markdown",
   "metadata": {},
   "source": [
    "## Simple Neural Network *aka Multilayered perceptron*\n",
    "\n",
    "The goal of this exercise is to build your own neural network from scratch and train it to recognise a series of handwritten digits. See *[The Perceptron](https://github.com/Claudiooo/DeepLearningLearning/blob/Group2/Jupyter/Nicolas/Perceptron.ipynb)* for more informations about **the perceptron concept**"
   ]
  },
  {
   "cell_type": "code",
   "execution_count": null,
   "metadata": {},
   "outputs": [],
   "source": []
  },
  {
   "cell_type": "markdown",
   "metadata": {},
   "source": [
    "### Links\n",
    "\n",
    "#### Youtube\n",
    " * [The Coding Train - 10.4: Neural Networks: Multilayer Perceptron Part 1](https://www.youtube.com/watch?v=u5GAVdLQyIg&list=PLRqwX-V7Uu6aCibgK1PTWWu9by6XFdCfh&index=4)\n",
    " * [The Coding Train - 10.4: Neural Networks: Multilayer Perceptron Part 2](https://www.youtube.com/watch?v=IlmNhFxre0w&list=PLRqwX-V7Uu6aCibgK1PTWWu9by6XFdCfh&index=5)\n",
    " * [3Blue1Brown - But what \\*is* a Neural Network? | Deep learning, chapter 1](https://www.youtube.com/watch?v=aircAruvnKk)\n",
    " * [3Blue1Brown - Gradient descent, how neural networks learn | Deep learning, chapter 2\n",
    "](https://www.youtube.com/watch?v=IHZwWFHWa-w)\n",
    "#### Web\n",
    " * [Wikipedia - Multilayered perceptron](https://www.wikiwand.com/en/Multilayer_perceptron)\n",
    " \n",
    "#### Data\n",
    " * [THE MNIST DATABASE of handwritten digits](http://yann.lecun.com/exdb/mnist/)"
   ]
  }
 ],
 "metadata": {
  "kernelspec": {
   "display_name": "Python 3",
   "language": "python",
   "name": "python3"
  },
  "language_info": {
   "codemirror_mode": {
    "name": "ipython",
    "version": 3
   },
   "file_extension": ".py",
   "mimetype": "text/x-python",
   "name": "python",
   "nbconvert_exporter": "python",
   "pygments_lexer": "ipython3",
   "version": "3.5.2"
  }
 },
 "nbformat": 4,
 "nbformat_minor": 2
}
