{
 "cells": [
  {
   "cell_type": "code",
   "execution_count": 15,
   "metadata": {},
   "outputs": [],
   "source": [
    "from keras.preprocessing.image import ImageDataGenerator\n",
    "from keras.models import Sequential\n",
    "from keras.layers import Conv2D, MaxPooling2D\n",
    "from keras.layers import Activation, Dropout, Flatten, Dense\n",
    "from keras import backend as K"
   ]
  },
  {
   "cell_type": "code",
   "execution_count": 16,
   "metadata": {
    "collapsed": true
   },
   "outputs": [],
   "source": [
    "# dimensions of our images.\n",
    "img_width, img_height = 150, 150"
   ]
  },
  {
   "cell_type": "code",
   "execution_count": 17,
   "metadata": {
    "collapsed": true
   },
   "outputs": [],
   "source": [
    "train_data_dir = 'train'\n",
    "validation_data_dir = 'validation'\n",
    "nb_train_samples = 2000\n",
    "nb_validation_samples = 800\n",
    "epochs = 50\n",
    "batch_size = 16"
   ]
  },
  {
   "cell_type": "code",
   "execution_count": 18,
   "metadata": {
    "collapsed": true
   },
   "outputs": [],
   "source": [
    "if K.image_data_format() == 'channels_first':\n",
    "    input_shape = (3, img_width, img_height)\n",
    "else:\n",
    "    input_shape = (img_width, img_height, 3)"
   ]
  },
  {
   "cell_type": "code",
   "execution_count": 19,
   "metadata": {
    "collapsed": true
   },
   "outputs": [],
   "source": [
    "model = Sequential()\n",
    "model.add(Conv2D(32, (3, 3), input_shape=input_shape))\n",
    "model.add(Activation('relu'))\n",
    "model.add(MaxPooling2D(pool_size=(2, 2)))"
   ]
  },
  {
   "cell_type": "code",
   "execution_count": 20,
   "metadata": {
    "collapsed": true
   },
   "outputs": [],
   "source": [
    "model.add(Conv2D(32, (3, 3)))\n",
    "model.add(Activation('relu'))\n",
    "model.add(MaxPooling2D(pool_size=(2, 2)))"
   ]
  },
  {
   "cell_type": "code",
   "execution_count": 21,
   "metadata": {
    "collapsed": true
   },
   "outputs": [],
   "source": [
    "model.add(Conv2D(64, (3, 3)))\n",
    "model.add(Activation('relu'))\n",
    "model.add(MaxPooling2D(pool_size=(2, 2)))"
   ]
  },
  {
   "cell_type": "code",
   "execution_count": 22,
   "metadata": {
    "collapsed": true
   },
   "outputs": [],
   "source": [
    "model.add(Flatten())\n",
    "model.add(Dense(64))\n",
    "model.add(Activation('relu'))\n",
    "model.add(Dropout(0.5))\n",
    "model.add(Dense(1))\n",
    "model.add(Activation('sigmoid'))"
   ]
  },
  {
   "cell_type": "code",
   "execution_count": 23,
   "metadata": {
    "collapsed": true
   },
   "outputs": [],
   "source": [
    "model.compile(loss='binary_crossentropy',\n",
    "              optimizer='rmsprop',\n",
    "              metrics=['accuracy'])"
   ]
  },
  {
   "cell_type": "code",
   "execution_count": 24,
   "metadata": {
    "collapsed": true
   },
   "outputs": [],
   "source": [
    "# this is the augmentation configuration we will use for training\n",
    "train_datagen = ImageDataGenerator(\n",
    "    rescale=1. / 255,\n",
    "    shear_range=0.2,\n",
    "    zoom_range=0.2,\n",
    "    horizontal_flip=True)"
   ]
  },
  {
   "cell_type": "code",
   "execution_count": 25,
   "metadata": {
    "collapsed": true
   },
   "outputs": [],
   "source": [
    "# this is the augmentation configuration we will use for testing:\n",
    "# only rescaling\n",
    "test_datagen = ImageDataGenerator(rescale=1. / 255)"
   ]
  },
  {
   "cell_type": "code",
   "execution_count": 26,
   "metadata": {},
   "outputs": [
    {
     "name": "stdout",
     "output_type": "stream",
     "text": [
      "Found 201 images belonging to 2 classes.\n"
     ]
    }
   ],
   "source": [
    "train_generator = train_datagen.flow_from_directory(\n",
    "    train_data_dir,\n",
    "    target_size=(img_width, img_height),\n",
    "    batch_size=batch_size,\n",
    "    class_mode='binary')"
   ]
  },
  {
   "cell_type": "code",
   "execution_count": 27,
   "metadata": {},
   "outputs": [
    {
     "name": "stdout",
     "output_type": "stream",
     "text": [
      "Found 99 images belonging to 1 classes.\n"
     ]
    }
   ],
   "source": [
    "validation_generator = test_datagen.flow_from_directory(\n",
    "    validation_data_dir,\n",
    "    target_size=(img_width, img_height),\n",
    "    batch_size=batch_size,\n",
    "    class_mode='binary')"
   ]
  },
  {
   "cell_type": "code",
   "execution_count": 28,
   "metadata": {},
   "outputs": [
    {
     "name": "stdout",
     "output_type": "stream",
     "text": [
      "Epoch 1/50\n",
      "125/125 [==============================] - 108s - loss: 0.7035 - acc: 0.5345 - val_loss: 0.7110 - val_acc: 0.7207\n",
      "Epoch 2/50\n",
      "125/125 [==============================] - 103s - loss: 0.5859 - acc: 0.6992 - val_loss: 1.8651 - val_acc: 0.2567\n",
      "Epoch 3/50\n",
      "125/125 [==============================] - 119s - loss: 0.4530 - acc: 0.7962 - val_loss: 2.3519 - val_acc: 0.4076\n",
      "Epoch 4/50\n",
      "125/125 [==============================] - 102s - loss: 0.3317 - acc: 0.8633 - val_loss: 2.2075 - val_acc: 0.4245\n",
      "Epoch 5/50\n",
      "125/125 [==============================] - 115s - loss: 0.2663 - acc: 0.8870 - val_loss: 2.0468 - val_acc: 0.5078\n",
      "Epoch 6/50\n",
      "125/125 [==============================] - 109s - loss: 0.1776 - acc: 0.9259 - val_loss: 2.9104 - val_acc: 0.4943\n",
      "Epoch 7/50\n",
      "125/125 [==============================] - 115s - loss: 0.1502 - acc: 0.9391 - val_loss: 3.6016 - val_acc: 0.4683\n",
      "Epoch 8/50\n",
      "125/125 [==============================] - 94s - loss: 0.1187 - acc: 0.9582 - val_loss: 4.5393 - val_acc: 0.4330\n",
      "Epoch 9/50\n",
      "125/125 [==============================] - 96s - loss: 0.1114 - acc: 0.9621 - val_loss: 3.7890 - val_acc: 0.5261\n",
      "Epoch 10/50\n",
      "125/125 [==============================] - 99s - loss: 0.0747 - acc: 0.9711 - val_loss: 6.2611 - val_acc: 0.3921\n",
      "Epoch 11/50\n",
      "125/125 [==============================] - 100s - loss: 0.1020 - acc: 0.9664 - val_loss: 5.9245 - val_acc: 0.4104\n",
      "Epoch 12/50\n",
      "125/125 [==============================] - 101s - loss: 0.0951 - acc: 0.9746 - val_loss: 5.9720 - val_acc: 0.4386\n",
      "Epoch 13/50\n",
      "125/125 [==============================] - 97s - loss: 0.1048 - acc: 0.9694 - val_loss: 6.0056 - val_acc: 0.4655\n",
      "Epoch 14/50\n",
      "125/125 [==============================] - 98s - loss: 0.1060 - acc: 0.9713 - val_loss: 5.5419 - val_acc: 0.4725\n",
      "Epoch 15/50\n",
      "125/125 [==============================] - 100s - loss: 0.0875 - acc: 0.9753 - val_loss: 4.8081 - val_acc: 0.5275\n",
      "Epoch 16/50\n",
      "125/125 [==============================] - 104s - loss: 0.0791 - acc: 0.9767 - val_loss: 6.5616 - val_acc: 0.4020\n",
      "Epoch 17/50\n",
      "125/125 [==============================] - 101s - loss: 0.1176 - acc: 0.9706 - val_loss: 6.7909 - val_acc: 0.3597\n",
      "Epoch 18/50\n",
      "125/125 [==============================] - 101s - loss: 0.0717 - acc: 0.9763 - val_loss: 6.3435 - val_acc: 0.4739\n",
      "Epoch 19/50\n",
      "125/125 [==============================] - 105s - loss: 0.1107 - acc: 0.9740 - val_loss: 5.7471 - val_acc: 0.4302\n",
      "Epoch 20/50\n",
      "125/125 [==============================] - 101s - loss: 0.0841 - acc: 0.9785 - val_loss: 7.2218 - val_acc: 0.4124\n",
      "Epoch 21/50\n",
      "125/125 [==============================] - 96s - loss: 0.0846 - acc: 0.9752 - val_loss: 6.7139 - val_acc: 0.3724\n",
      "Epoch 22/50\n",
      "125/125 [==============================] - 99s - loss: 0.0833 - acc: 0.9762 - val_loss: 6.3908 - val_acc: 0.4556\n",
      "Epoch 23/50\n",
      "125/125 [==============================] - 102s - loss: 0.0721 - acc: 0.9807 - val_loss: 7.7132 - val_acc: 0.4217\n",
      "Epoch 24/50\n",
      "125/125 [==============================] - 106s - loss: 0.1003 - acc: 0.9806 - val_loss: 4.6747 - val_acc: 0.4513\n",
      "Epoch 25/50\n",
      "125/125 [==============================] - 104s - loss: 0.0866 - acc: 0.9791 - val_loss: 4.4182 - val_acc: 0.5317\n",
      "Epoch 26/50\n",
      "125/125 [==============================] - 103s - loss: 0.1055 - acc: 0.9746 - val_loss: 6.5978 - val_acc: 0.4767\n",
      "Epoch 27/50\n",
      "125/125 [==============================] - 101s - loss: 0.0881 - acc: 0.9782 - val_loss: 6.4590 - val_acc: 0.4655\n",
      "Epoch 28/50\n",
      "125/125 [==============================] - 104s - loss: 0.0748 - acc: 0.9831 - val_loss: 3.9897 - val_acc: 0.5120\n",
      "Epoch 29/50\n",
      "125/125 [==============================] - 106s - loss: 0.1313 - acc: 0.9691 - val_loss: 6.5153 - val_acc: 0.4669\n",
      "Epoch 30/50\n",
      "125/125 [==============================] - 100s - loss: 0.1309 - acc: 0.9786 - val_loss: 5.6058 - val_acc: 0.5134\n",
      "Epoch 31/50\n",
      "125/125 [==============================] - 97s - loss: 0.0942 - acc: 0.9756 - val_loss: 7.4660 - val_acc: 0.4288\n",
      "Epoch 32/50\n",
      "125/125 [==============================] - 99s - loss: 0.1654 - acc: 0.9721 - val_loss: 5.1464 - val_acc: 0.5134\n",
      "Epoch 33/50\n",
      "125/125 [==============================] - 99s - loss: 0.1097 - acc: 0.9761 - val_loss: 5.2268 - val_acc: 0.4880\n",
      "Epoch 34/50\n",
      "125/125 [==============================] - 103s - loss: 0.0844 - acc: 0.9833 - val_loss: 7.3757 - val_acc: 0.4856\n",
      "Epoch 35/50\n",
      "125/125 [==============================] - 104s - loss: 0.0989 - acc: 0.9777 - val_loss: 8.2348 - val_acc: 0.2722\n",
      "Epoch 36/50\n",
      "125/125 [==============================] - 97s - loss: 0.1138 - acc: 0.9696 - val_loss: 6.9977 - val_acc: 0.4316\n",
      "Epoch 37/50\n",
      "125/125 [==============================] - 100s - loss: 0.1753 - acc: 0.9735 - val_loss: 3.6828 - val_acc: 0.5642\n",
      "Epoch 38/50\n",
      "125/125 [==============================] - 101s - loss: 0.1257 - acc: 0.9802 - val_loss: 7.0214 - val_acc: 0.4725\n",
      "Epoch 39/50\n",
      "125/125 [==============================] - 98s - loss: 0.1768 - acc: 0.9737 - val_loss: 8.0131 - val_acc: 0.2200\n",
      "Epoch 40/50\n",
      "125/125 [==============================] - 101s - loss: 0.1870 - acc: 0.9667 - val_loss: 5.8915 - val_acc: 0.4118\n",
      "Epoch 41/50\n",
      "125/125 [==============================] - 100s - loss: 0.0990 - acc: 0.9778 - val_loss: 6.6280 - val_acc: 0.5057\n",
      "Epoch 42/50\n",
      "125/125 [==============================] - 103s - loss: 0.1445 - acc: 0.9768 - val_loss: 5.2048 - val_acc: 0.5120\n",
      "Epoch 43/50\n",
      "125/125 [==============================] - 98s - loss: 0.1236 - acc: 0.9742 - val_loss: 5.9129 - val_acc: 0.4429\n",
      "Epoch 44/50\n",
      "125/125 [==============================] - 97s - loss: 0.1048 - acc: 0.9800 - val_loss: 6.4913 - val_acc: 0.4542\n",
      "Epoch 45/50\n",
      "125/125 [==============================] - 98s - loss: 0.0761 - acc: 0.9800 - val_loss: 7.4735 - val_acc: 0.4669\n",
      "Epoch 46/50\n",
      "125/125 [==============================] - 101s - loss: 0.1187 - acc: 0.9763 - val_loss: 6.1269 - val_acc: 0.4654\n",
      "Epoch 47/50\n",
      "125/125 [==============================] - 101s - loss: 0.1466 - acc: 0.9781 - val_loss: 8.1987 - val_acc: 0.4062\n",
      "Epoch 48/50\n",
      "125/125 [==============================] - 100s - loss: 0.2159 - acc: 0.9676 - val_loss: 6.2568 - val_acc: 0.4253\n",
      "Epoch 49/50\n",
      "125/125 [==============================] - 99s - loss: 0.2642 - acc: 0.9656 - val_loss: 6.2191 - val_acc: 0.4457\n",
      "Epoch 50/50\n",
      "125/125 [==============================] - 100s - loss: 0.1832 - acc: 0.9657 - val_loss: 5.4149 - val_acc: 0.5134\n"
     ]
    },
    {
     "data": {
      "text/plain": [
       "<keras.callbacks.History at 0x221d59d9c88>"
      ]
     },
     "execution_count": 28,
     "metadata": {},
     "output_type": "execute_result"
    }
   ],
   "source": [
    "model.fit_generator(\n",
    "    train_generator,\n",
    "    steps_per_epoch=nb_train_samples // batch_size,\n",
    "    epochs=epochs,\n",
    "    validation_data=validation_generator,\n",
    "    validation_steps=nb_validation_samples // batch_size)"
   ]
  },
  {
   "cell_type": "code",
   "execution_count": 29,
   "metadata": {
    "collapsed": true
   },
   "outputs": [],
   "source": [
    "model.save_weights('first_try.h5')"
   ]
  },
  {
   "cell_type": "code",
   "execution_count": null,
   "metadata": {
    "collapsed": true
   },
   "outputs": [],
   "source": []
  }
 ],
 "metadata": {
  "kernelspec": {
   "display_name": "Python 3",
   "language": "python",
   "name": "python3"
  },
  "language_info": {
   "codemirror_mode": {
    "name": "ipython",
    "version": 3
   },
   "file_extension": ".py",
   "mimetype": "text/x-python",
   "name": "python",
   "nbconvert_exporter": "python",
   "pygments_lexer": "ipython3",
   "version": "3.6.2"
  }
 },
 "nbformat": 4,
 "nbformat_minor": 2
}
