{
 "cells": [
  {
   "cell_type": "code",
   "execution_count": 6,
   "metadata": {},
   "outputs": [],
   "source": [
    "import numpy as np\n",
    "from keras.models import Sequential\n",
    "from keras.layers import Dense, Dropout, Activation, Flatten\n",
    "from keras.layers import Convolution2D, MaxPooling2D\n",
    "from keras.utils import np_utils\n",
    "from matplotlib import pyplot as plt\n",
    "from keras.layers.convolutional import Conv2D"
   ]
  },
  {
   "cell_type": "code",
   "execution_count": 7,
   "metadata": {},
   "outputs": [],
   "source": [
    "from keras.datasets import cifar100"
   ]
  },
  {
   "cell_type": "code",
   "execution_count": 8,
   "metadata": {},
   "outputs": [
    {
     "name": "stdout",
     "output_type": "stream",
     "text": [
      "(50000, 32, 32, 3)\n",
      "(50000, 1)\n"
     ]
    }
   ],
   "source": [
    "img_cols = 32\n",
    "img_rows = 32\n",
    "num_classes = 100\n",
    "epochs = 10\n",
    "\n",
    "(X_train, y_train), (X_test, y_test) = cifar100.load_data(label_mode='fine')\n",
    "print(X_train.shape)\n",
    "print(y_train.shape)"
   ]
  },
  {
   "cell_type": "code",
   "execution_count": 9,
   "metadata": {},
   "outputs": [
    {
     "name": "stdout",
     "output_type": "stream",
     "text": [
      "(None, 2, 2, 64)\n"
     ]
    }
   ],
   "source": [
    "y_train = np_utils.to_categorical(y_train, 100)\n",
    "y_test = np_utils.to_categorical(y_test, 100)\n",
    "\n",
    "model = Sequential()\n",
    "model.add(Conv2D(32, (3,3), padding='same', activation='relu', input_shape=(img_cols, img_rows, 3)))\n",
    "model.add(MaxPooling2D(pool_size=(2,2)))\n",
    "\n",
    "model.add(Conv2D(32, (3,3), activation='relu'))\n",
    "model.add(MaxPooling2D(pool_size=(2,2)))\n",
    "\n",
    "model.add(Conv2D(64, (3,3), activation='relu'))\n",
    "model.add(MaxPooling2D(pool_size=(2,2)))\n",
    "\n",
    "print(model.output_shape)\n",
    "\n",
    "model.add(Flatten())\n",
    "model.add(Dense(512, activation='relu'))\n",
    "model.add(Dropout(0,5))\n",
    "model.add(Dense(100, activation='softmax'))\n",
    "\n",
    "model.add(Activation('sigmoid'))"
   ]
  },
  {
   "cell_type": "code",
   "execution_count": 10,
   "metadata": {},
   "outputs": [],
   "source": [
    "model.compile(loss='binary_crossentropy',\n",
    "              optimizer='rmsprop',\n",
    "              metrics=['accuracy'])"
   ]
  },
  {
   "cell_type": "code",
   "execution_count": 11,
   "metadata": {},
   "outputs": [
    {
     "name": "stderr",
     "output_type": "stream",
     "text": [
      "c:\\users\\choup\\appdata\\local\\programs\\python\\python35\\lib\\site-packages\\keras\\models.py:939: UserWarning: The `nb_epoch` argument in `fit` has been renamed `epochs`.\n",
      "  warnings.warn('The `nb_epoch` argument in `fit` '\n"
     ]
    },
    {
     "name": "stdout",
     "output_type": "stream",
     "text": [
      "Epoch 1/10\n",
      "50000/50000 [==============================] - 49s 986us/step - loss: 0.6992 - acc: 0.9801\n",
      "Epoch 2/10\n",
      "50000/50000 [==============================] - 52s 1ms/step - loss: 0.6992 - acc: 0.9802\n",
      "Epoch 3/10\n",
      "50000/50000 [==============================] - 49s 989us/step - loss: 0.6992 - acc: 0.9802\n",
      "Epoch 4/10\n",
      "50000/50000 [==============================] - 49s 977us/step - loss: 0.6992 - acc: 0.9802\n",
      "Epoch 5/10\n",
      "50000/50000 [==============================] - 50s 1ms/step - loss: 0.6992 - acc: 0.9802\n",
      "Epoch 6/10\n",
      "50000/50000 [==============================] - 49s 973us/step - loss: 0.6992 - acc: 0.9802\n",
      "Epoch 7/10\n",
      "50000/50000 [==============================] - 48s 952us/step - loss: 0.6992 - acc: 0.9802\n",
      "Epoch 8/10\n",
      "50000/50000 [==============================] - 48s 953us/step - loss: 0.6992 - acc: 0.9802\n",
      "Epoch 9/10\n",
      "50000/50000 [==============================] - 48s 952us/step - loss: 0.6992 - acc: 0.9802\n",
      "Epoch 10/10\n",
      "50000/50000 [==============================] - 48s 952us/step - loss: 0.6992 - acc: 0.9802\n"
     ]
    },
    {
     "data": {
      "text/plain": [
       "<keras.callbacks.History at 0x18672391f60>"
      ]
     },
     "execution_count": 11,
     "metadata": {},
     "output_type": "execute_result"
    }
   ],
   "source": [
    "model.fit(X_train, y_train,batch_size=32, nb_epoch=10, verbose=1)"
   ]
  },
  {
   "cell_type": "code",
   "execution_count": null,
   "metadata": {},
   "outputs": [],
   "source": []
  }
 ],
 "metadata": {
  "kernelspec": {
   "display_name": "Python 3",
   "language": "python",
   "name": "python3"
  },
  "language_info": {
   "codemirror_mode": {
    "name": "ipython",
    "version": 3
   },
   "file_extension": ".py",
   "mimetype": "text/x-python",
   "name": "python",
   "nbconvert_exporter": "python",
   "pygments_lexer": "ipython3",
   "version": "3.5.2"
  }
 },
 "nbformat": 4,
 "nbformat_minor": 2
}
