{
 "cells": [
  {
   "cell_type": "code",
   "execution_count": 67,
   "metadata": {},
   "outputs": [
    {
     "name": "stdout",
     "output_type": "stream",
     "text": [
      "(60000, 28, 28)\n",
      "Image added to file\n"
     ]
    }
   ],
   "source": [
    "import numpy as np\n",
    "from keras.models import Sequential\n",
    "from keras.layers import Dense, Dropout, Activation, Flatten\n",
    "from keras.layers import Convolution2D, MaxPooling2D\n",
    "from keras.utils import np_utils\n",
    "from keras.datasets import mnist\n",
    "from matplotlib import pyplot as plt\n",
    "from keras.layers.convolutional import Conv2D\n",
    "\n",
    "np.random.seed(123)\n",
    "(X_train, y_train), (X_test, y_test) = mnist.load_data()\n",
    "print(X_train.shape)\n",
    "\n",
    "img_cols = 28\n",
    "img_rows = 28\n",
    "\n",
    "print(\"Image added to file\")"
   ]
  },
  {
   "cell_type": "code",
   "execution_count": 68,
   "metadata": {},
   "outputs": [
    {
     "name": "stdout",
     "output_type": "stream",
     "text": [
      "(60000, 28, 28, 1)\n",
      "Depth added\n"
     ]
    }
   ],
   "source": [
    "X_train = X_train.reshape(X_train.shape[0], img_cols, img_rows, 1)\n",
    "X_test = X_test.reshape(X_test.shape[0], img_cols, img_rows, 1)\n",
    "print(X_train.shape)\n",
    "\n",
    "print('Depth added')"
   ]
  },
  {
   "cell_type": "code",
   "execution_count": 69,
   "metadata": {},
   "outputs": [
    {
     "name": "stdout",
     "output_type": "stream",
     "text": [
      "Image set\n"
     ]
    }
   ],
   "source": [
    "X_train = X_train.astype('float32')\n",
    "X_test = X_test.astype('float32')\n",
    "X_train /= 255\n",
    "X_test /= 255\n",
    "print(\"Image set\")"
   ]
  },
  {
   "cell_type": "code",
   "execution_count": null,
   "metadata": {},
   "outputs": [],
   "source": []
  },
  {
   "cell_type": "code",
   "execution_count": 70,
   "metadata": {},
   "outputs": [
    {
     "name": "stdout",
     "output_type": "stream",
     "text": [
      "transform into matrice\n",
      "Model initialization\n",
      "Only 2 models possible\n",
      "(None, 26, 26, 32)\n",
      "(None, 12, 12, 32)\n"
     ]
    },
    {
     "name": "stderr",
     "output_type": "stream",
     "text": [
      "c:\\users\\choup\\appdata\\local\\programs\\python\\python35\\lib\\site-packages\\keras\\models.py:939: UserWarning: The `nb_epoch` argument in `fit` has been renamed `epochs`.\n",
      "  warnings.warn('The `nb_epoch` argument in `fit` '\n"
     ]
    },
    {
     "name": "stdout",
     "output_type": "stream",
     "text": [
      "Epoch 1/10\n",
      "60000/60000 [==============================] - 87s 1ms/step - loss: 0.1205 - acc: 0.9632\n",
      "Epoch 2/10\n",
      "60000/60000 [==============================] - 91s 2ms/step - loss: 0.0393 - acc: 0.9880\n",
      "Epoch 3/10\n",
      "60000/60000 [==============================] - 97s 2ms/step - loss: 0.0237 - acc: 0.9924\n",
      "Epoch 4/10\n",
      "60000/60000 [==============================] - 87s 1ms/step - loss: 0.0166 - acc: 0.9947\n",
      "Epoch 5/10\n",
      "60000/60000 [==============================] - 80s 1ms/step - loss: 0.0116 - acc: 0.9964\n",
      "Epoch 6/10\n",
      "60000/60000 [==============================] - 85s 1ms/step - loss: 0.0105 - acc: 0.9966\n",
      "Epoch 7/10\n",
      "60000/60000 [==============================] - 81s 1ms/step - loss: 0.0067 - acc: 0.9981\n",
      "Epoch 8/10\n",
      "60000/60000 [==============================] - 79s 1ms/step - loss: 0.0068 - acc: 0.9977\n",
      "Epoch 9/10\n",
      "60000/60000 [==============================] - 80s 1ms/step - loss: 0.0065 - acc: 0.9979\n",
      "Epoch 10/10\n",
      "60000/60000 [==============================] - 91s 2ms/step - loss: 0.0053 - acc: 0.9984\n"
     ]
    },
    {
     "data": {
      "text/plain": [
       "<keras.callbacks.History at 0x21000c62f98>"
      ]
     },
     "execution_count": 70,
     "metadata": {},
     "output_type": "execute_result"
    }
   ],
   "source": [
    "y_train = np_utils.to_categorical(y_train, 10)\n",
    "y_test = np_utils.to_categorical(y_test, 10)\n",
    "\n",
    "print(\"transform into matrice\")\n",
    "print(\"Model initialization\")\n",
    "\n",
    "model = Sequential()\n",
    "print(\"Only 2 models possible\")\n",
    "model.add(Conv2D(32, kernel_size=(3, 3), activation='relu', input_shape=(img_cols, img_rows, 1)))\n",
    "print (model.output_shape)\n",
    "\n",
    "model.add(Conv2D(32, kernel_size=(3, 3), activation='relu'))\n",
    "model.add(MaxPooling2D(pool_size=(2,2)))\n",
    "model.add(Dropout(0,25))\n",
    "\n",
    "print(model.output_shape)\n",
    "\n",
    "\n",
    "model.add(Flatten())\n",
    "model.add(Dense(128, activation='relu'))\n",
    "model.add(Dropout(0,5))\n",
    "model.add(Dense(10, activation='softmax'))\n",
    "model.compile(loss='categorical_crossentropy',\n",
    "              optimizer='adam',\n",
    "              metrics=['accuracy'])\n",
    "\n",
    "model.fit(X_train, y_train,batch_size=32, epoch=10, verbose=1)"
   ]
  },
  {
   "cell_type": "code",
   "execution_count": null,
   "metadata": {},
   "outputs": [],
   "source": []
  }
 ],
 "metadata": {
  "kernelspec": {
   "display_name": "Python 3",
   "language": "python",
   "name": "python3"
  },
  "language_info": {
   "codemirror_mode": {
    "name": "ipython",
    "version": 3
   },
   "file_extension": ".py",
   "mimetype": "text/x-python",
   "name": "python",
   "nbconvert_exporter": "python",
   "pygments_lexer": "ipython3",
   "version": "3.5.2"
  }
 },
 "nbformat": 4,
 "nbformat_minor": 2
}
