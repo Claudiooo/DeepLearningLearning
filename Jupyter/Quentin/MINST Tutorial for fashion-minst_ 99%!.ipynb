{
 "cells": [
  {
   "cell_type": "code",
   "execution_count": 62,
   "metadata": {},
   "outputs": [],
   "source": [
    "import numpy as np\n",
    "from keras.models import Sequential\n",
    "from keras.layers import Dense, Dropout, Activation, Flatten\n",
    "from keras.layers import Convolution2D, MaxPooling2D\n",
    "from keras.utils import np_utils\n",
    "from keras.datasets import fashion_mnist\n",
    "from matplotlib import pyplot as plt\n",
    "from keras.applications import imagenet_utils\n",
    "from keras.layers.convolutional import Conv2D"
   ]
  },
  {
   "cell_type": "code",
   "execution_count": 52,
   "metadata": {},
   "outputs": [],
   "source": [
    "(x_train, y_train), (x_test, y_test) = fashion_mnist.load_data()"
   ]
  },
  {
   "cell_type": "markdown",
   "metadata": {},
   "source": [
    "We print the shape of the data we get"
   ]
  },
  {
   "cell_type": "code",
   "execution_count": 58,
   "metadata": {},
   "outputs": [
    {
     "name": "stdout",
     "output_type": "stream",
     "text": [
      "(60000, 28, 28, 1)\n"
     ]
    }
   ],
   "source": [
    "print(x_train.shape)"
   ]
  },
  {
   "cell_type": "markdown",
   "metadata": {},
   "source": [
    "We're adding a dimension to the data<br>\n",
    "We are reshaping it !<br>\n",
    "As our print says, it will be 60 000 images of 28x28<br>\n",
    "So we do a reshaping of 28 per 28 with a depth of 1\n"
   ]
  },
  {
   "cell_type": "code",
   "execution_count": 54,
   "metadata": {},
   "outputs": [
    {
     "name": "stdout",
     "output_type": "stream",
     "text": [
      "(60000,)\n"
     ]
    }
   ],
   "source": [
    "x_train = x_train.reshape(x_train.shape[0], 28, 28, 1)\n",
    "#As we do for our x_test\n",
    "x_test = x_test.reshape(x_test.shape[0], 28, 28, 1)\n",
    "\n",
    "#After our reshaping, we must get our data not just by their orignal data\n",
    "#We convert them in float 32 so we can get after the comma\n",
    "\n",
    "x_train = x_train.astype('float32')\n",
    "x_test = x_test.astype('float32')\n",
    "\n",
    "#And we convert data to 0 to 1\n",
    "#With such, we can get the weight of every data\n",
    "\n",
    "x_train /= 255\n",
    "x_test /= 255\n",
    "\n",
    "print (y_train.shape)"
   ]
  },
  {
   "cell_type": "code",
   "execution_count": 58,
   "metadata": {},
   "outputs": [
    {
     "name": "stdout",
     "output_type": "stream",
     "text": [
      "(60000, 28, 28, 1)\n"
     ]
    }
   ],
   "source": [
    "#We print the shape of the data we get\n",
    "print(x_train.shape)"
   ]
  },
  {
   "cell_type": "code",
   "execution_count": 55,
   "metadata": {},
   "outputs": [],
   "source": [
    "#Before we forgot, we must convert our Y to a matrice\n",
    "\n",
    "y_train = np_utils.to_categorical(y_train, 10)\n",
    "y_test = np_utils.to_categorical(y_test, 10)\n",
    "\n",
    "#Here's the part where we are going to define our Model \n",
    "#As such, it only exist 2 main models\n",
    "#We are going to use the Sequential one\n",
    "\n",
    "model = Sequential()\n",
    "\n",
    "#And we are adding our layers\n",
    "#We will use a conv2D layer for this example.\n",
    "# This layer creates a convolution kernel that is convolved with the layer input to produce a tensor of outputs. In 2Dimension\n",
    "#To add a layer, is simple as adding a .add() to your model\n",
    "\n",
    "model.add(Conv2D(32, (3, 3), activation='relu', input_shape=(28, 28, 1), padding='same'))\n",
    "model.add(MaxPooling2D(pool_size=(2, 2)))\n",
    "#We add a Dropout layer wich aims to reduce the complexity of the model with the goal to prevent overfitting. \n",
    "model.add(Dropout(0,25))\n",
    "\n",
    "model.add(Conv2D(32, (3, 3), activation='relu', input_shape=(28, 28, 1), padding='same'))\n",
    "model.add(MaxPooling2D(pool_size=(2, 2)))\n",
    "\n",
    "#Now we are defining our input layer\n",
    "# Now It is necessary to flatten input data to a vector.\n",
    "model.add(Flatten())\n",
    "model.add(Dense(128, activation='relu'))\n",
    "#Aaaand the output layer, the first parameter will be at 10, because we have 10 classes\n",
    "model.add(Dense(10, activation='softmax'))"
   ]
  },
  {
   "cell_type": "code",
   "execution_count": 56,
   "metadata": {},
   "outputs": [
    {
     "name": "stdout",
     "output_type": "stream",
     "text": [
      "Train on 60000 samples, validate on 10000 samples\n",
      "Epoch 1/20\n",
      "60000/60000 [==============================] - 41s 688us/step - loss: 0.4171 - acc: 0.8506 - val_loss: 0.3240 - val_acc: 0.8827\n",
      "Epoch 2/20\n",
      "60000/60000 [==============================] - 41s 677us/step - loss: 0.2751 - acc: 0.9003 - val_loss: 0.2732 - val_acc: 0.8980\n",
      "Epoch 3/20\n",
      "60000/60000 [==============================] - 44s 740us/step - loss: 0.2335 - acc: 0.9143 - val_loss: 0.2520 - val_acc: 0.9073\n",
      "Epoch 4/20\n",
      "60000/60000 [==============================] - 44s 732us/step - loss: 0.2026 - acc: 0.9244 - val_loss: 0.2520 - val_acc: 0.9092\n",
      "Epoch 5/20\n",
      "60000/60000 [==============================] - 42s 708us/step - loss: 0.1786 - acc: 0.9332 - val_loss: 0.2339 - val_acc: 0.9172\n",
      "Epoch 6/20\n",
      "60000/60000 [==============================] - 55s 911us/step - loss: 0.1561 - acc: 0.9415 - val_loss: 0.2687 - val_acc: 0.9083\n",
      "Epoch 7/20\n",
      "60000/60000 [==============================] - 42s 704us/step - loss: 0.1355 - acc: 0.9489 - val_loss: 0.2623 - val_acc: 0.9136\n",
      "Epoch 8/20\n",
      "60000/60000 [==============================] - 46s 761us/step - loss: 0.1173 - acc: 0.9559 - val_loss: 0.2605 - val_acc: 0.9137\n",
      "Epoch 9/20\n",
      "60000/60000 [==============================] - 40s 675us/step - loss: 0.1043 - acc: 0.9597 - val_loss: 0.2656 - val_acc: 0.9143\n",
      "Epoch 10/20\n",
      "60000/60000 [==============================] - 37s 613us/step - loss: 0.0873 - acc: 0.9667 - val_loss: 0.2718 - val_acc: 0.9163\n",
      "Epoch 11/20\n",
      "60000/60000 [==============================] - 40s 672us/step - loss: 0.0774 - acc: 0.9710 - val_loss: 0.3107 - val_acc: 0.9165\n",
      "Epoch 12/20\n",
      "60000/60000 [==============================] - 37s 608us/step - loss: 0.0666 - acc: 0.9750 - val_loss: 0.3244 - val_acc: 0.9138\n",
      "Epoch 13/20\n",
      "60000/60000 [==============================] - 37s 618us/step - loss: 0.0594 - acc: 0.9782 - val_loss: 0.3432 - val_acc: 0.9171\n",
      "Epoch 14/20\n",
      "60000/60000 [==============================] - 41s 681us/step - loss: 0.0517 - acc: 0.9812 - val_loss: 0.3885 - val_acc: 0.9124\n",
      "Epoch 15/20\n",
      "60000/60000 [==============================] - 36s 598us/step - loss: 0.0440 - acc: 0.9842 - val_loss: 0.3890 - val_acc: 0.9151\n",
      "Epoch 16/20\n",
      "60000/60000 [==============================] - 48s 804us/step - loss: 0.0415 - acc: 0.9847 - val_loss: 0.4272 - val_acc: 0.9101\n",
      "Epoch 17/20\n",
      "60000/60000 [==============================] - 37s 625us/step - loss: 0.0364 - acc: 0.9864 - val_loss: 0.4329 - val_acc: 0.9138\n",
      "Epoch 18/20\n",
      "60000/60000 [==============================] - 50s 838us/step - loss: 0.0340 - acc: 0.9875 - val_loss: 0.4454 - val_acc: 0.9156\n",
      "Epoch 19/20\n",
      "60000/60000 [==============================] - 39s 644us/step - loss: 0.0310 - acc: 0.9888 - val_loss: 0.5080 - val_acc: 0.9120\n",
      "Epoch 20/20\n",
      "60000/60000 [==============================] - 42s 704us/step - loss: 0.0274 - acc: 0.9901 - val_loss: 0.4973 - val_acc: 0.9155\n"
     ]
    },
    {
     "data": {
      "text/plain": [
       "<keras.callbacks.History at 0x174007897b8>"
      ]
     },
     "execution_count": 56,
     "metadata": {},
     "output_type": "execute_result"
    }
   ],
   "source": [
    "#After all this, we just have to compile our algorithm and train it !\n",
    "\n",
    "model.compile(\n",
    "    loss='categorical_crossentropy', \n",
    "    optimizer='adam', \n",
    "    metrics=['accuracy'])\n",
    "\n",
    "#And we launch the trainign of our algorithm !\n",
    "model.fit(\n",
    "    x_train, \n",
    "    y_train, \n",
    "    epochs=20, \n",
    "    batch_size=32, \n",
    "    validation_data=(x_test, y_test)\n",
    ")"
   ]
  },
  {
   "cell_type": "code",
   "execution_count": 57,
   "metadata": {},
   "outputs": [],
   "source": [
    "#99% Accuracy ! "
   ]
  },
  {
   "cell_type": "code",
   "execution_count": 63,
   "metadata": {},
   "outputs": [
    {
     "ename": "ImportError",
     "evalue": "`save_weights` requires h5py.",
     "output_type": "error",
     "traceback": [
      "\u001b[1;31m---------------------------------------------------------------------------\u001b[0m",
      "\u001b[1;31mImportError\u001b[0m                               Traceback (most recent call last)",
      "\u001b[1;32m<ipython-input-63-f221d64bbde5>\u001b[0m in \u001b[0;36m<module>\u001b[1;34m()\u001b[0m\n\u001b[1;32m----> 1\u001b[1;33m \u001b[0mmodel\u001b[0m\u001b[1;33m.\u001b[0m\u001b[0msave_weights\u001b[0m\u001b[1;33m(\u001b[0m\u001b[1;34m'mnist_fashion_tutorial.h5'\u001b[0m\u001b[1;33m)\u001b[0m\u001b[1;33m\u001b[0m\u001b[0m\n\u001b[0m",
      "\u001b[1;32mc:\\users\\choup\\appdata\\local\\programs\\python\\python35\\lib\\site-packages\\keras\\models.py\u001b[0m in \u001b[0;36msave_weights\u001b[1;34m(self, filepath, overwrite)\u001b[0m\n\u001b[0;32m    737\u001b[0m     \u001b[1;32mdef\u001b[0m \u001b[0msave_weights\u001b[0m\u001b[1;33m(\u001b[0m\u001b[0mself\u001b[0m\u001b[1;33m,\u001b[0m \u001b[0mfilepath\u001b[0m\u001b[1;33m,\u001b[0m \u001b[0moverwrite\u001b[0m\u001b[1;33m=\u001b[0m\u001b[1;32mTrue\u001b[0m\u001b[1;33m)\u001b[0m\u001b[1;33m:\u001b[0m\u001b[1;33m\u001b[0m\u001b[0m\n\u001b[0;32m    738\u001b[0m         \u001b[1;32mif\u001b[0m \u001b[0mh5py\u001b[0m \u001b[1;32mis\u001b[0m \u001b[1;32mNone\u001b[0m\u001b[1;33m:\u001b[0m\u001b[1;33m\u001b[0m\u001b[0m\n\u001b[1;32m--> 739\u001b[1;33m             \u001b[1;32mraise\u001b[0m \u001b[0mImportError\u001b[0m\u001b[1;33m(\u001b[0m\u001b[1;34m'`save_weights` requires h5py.'\u001b[0m\u001b[1;33m)\u001b[0m\u001b[1;33m\u001b[0m\u001b[0m\n\u001b[0m\u001b[0;32m    740\u001b[0m         \u001b[1;31m# If file exists and should not be overwritten:\u001b[0m\u001b[1;33m\u001b[0m\u001b[1;33m\u001b[0m\u001b[0m\n\u001b[0;32m    741\u001b[0m         \u001b[1;32mif\u001b[0m \u001b[1;32mnot\u001b[0m \u001b[0moverwrite\u001b[0m \u001b[1;32mand\u001b[0m \u001b[0mos\u001b[0m\u001b[1;33m.\u001b[0m\u001b[0mpath\u001b[0m\u001b[1;33m.\u001b[0m\u001b[0misfile\u001b[0m\u001b[1;33m(\u001b[0m\u001b[0mfilepath\u001b[0m\u001b[1;33m)\u001b[0m\u001b[1;33m:\u001b[0m\u001b[1;33m\u001b[0m\u001b[0m\n",
      "\u001b[1;31mImportError\u001b[0m: `save_weights` requires h5py."
     ]
    }
   ],
   "source": [
    "model.save_weights('mnist_fashion_tutorial.h5')"
   ]
  },
  {
   "cell_type": "code",
   "execution_count": null,
   "metadata": {},
   "outputs": [],
   "source": []
  }
 ],
 "metadata": {
  "kernelspec": {
   "display_name": "Python 3",
   "language": "python",
   "name": "python3"
  },
  "language_info": {
   "codemirror_mode": {
    "name": "ipython",
    "version": 3
   },
   "file_extension": ".py",
   "mimetype": "text/x-python",
   "name": "python",
   "nbconvert_exporter": "python",
   "pygments_lexer": "ipython3",
   "version": "3.5.2"
  }
 },
 "nbformat": 4,
 "nbformat_minor": 2
}
