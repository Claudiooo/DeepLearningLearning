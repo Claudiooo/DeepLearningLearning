{
 "cells": [
  {
   "cell_type": "markdown",
   "metadata": {},
   "source": [
    "# Tutorial Keras \n",
    "\n",
    "## Get started with the Fashion-MNIST dataset\n",
    "\n",
    "//\n",
    "\n",
    "tutorial : [Deeplearning with Keras](https://github.com/Claudiooo/DeepLearningLearning/blob/Group1/Jupyter/Guillaume/Keras/Fashion-MNIST.ipynb)"
   ]
  }
 ],
 "metadata": {
  "kernelspec": {
   "display_name": "Python 3",
   "language": "python",
   "name": "python3"
  },
  "language_info": {
   "codemirror_mode": {
    "name": "ipython",
    "version": 3
   },
   "file_extension": ".py",
   "mimetype": "text/x-python",
   "name": "python",
   "nbconvert_exporter": "python",
   "pygments_lexer": "ipython3",
   "version": "3.6.2"
  }
 },
 "nbformat": 4,
 "nbformat_minor": 2
}
